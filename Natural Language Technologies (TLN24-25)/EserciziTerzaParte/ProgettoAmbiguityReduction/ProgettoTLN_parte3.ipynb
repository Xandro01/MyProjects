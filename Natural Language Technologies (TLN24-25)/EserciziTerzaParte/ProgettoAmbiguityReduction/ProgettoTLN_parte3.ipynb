{
  "cells": [
    {
      "cell_type": "markdown",
      "metadata": {
        "id": "2KDLaI4cDDOD"
      },
      "source": [
        "# **Creazione di un dizionario L1-L2 minimizzando l'ambiguità dei termini**  "
      ]
    },
    {
      "cell_type": "markdown",
      "metadata": {
        "id": "R5wVkbmODTV5"
      },
      "source": [
        "**Descrizione dell'esercitazione:**\n",
        "\n",
        "L'obiettivo di questo esercizio è la costruzione automatica di un dizionario multilingue  \n",
        "tra una lingua sorgente **L1** e una o più lingue di estensione **Li**, minimizzando l’ambiguità  \n",
        "semantica dei termini generati.  \n",
        "\n",
        "Il sistema sfrutta la variazione cross-lingua nella codifica dell'ambiguità per generare  \n",
        "*pseudowords*, ossia etichette semantiche artificiali non ambigue.\n",
        "\n",
        "Quando una parola `x ∈ L1` ha **N significati distinti** nella lingua di partenza e la sua  \n",
        "traduzione `y ∈ L2` ha **M significati (con M < N)**, l’associazione `x → y` può essere  \n",
        "utilizzata per ridurre l’ambiguità semantica del termine originario.  \n",
        "\n",
        "Viceversa, anche `y` può essere disambiguato sfruttando il legame con `x`, nel caso in cui  \n",
        "la lingua di origine codifichi più finezze semantiche.  \n",
        "\n",
        "Viene così creata una nuova unità lessicale artificiale `x-y`, detta **pseudoword**, che eredita  \n",
        "una porzione condivisa dei significati di `x` e `y`, ma con ambiguità inferiore rispetto a  \n",
        "ciascun termine singolarmente."
      ]
    },
    {
      "cell_type": "markdown",
      "metadata": {
        "id": "v9JqhpixEet5"
      },
      "source": [
        "## Importazione dei moduli"
      ]
    },
    {
      "cell_type": "code",
      "execution_count": 1,
      "metadata": {
        "id": "aAPvNwGeRqQj",
        "colab": {
          "base_uri": "https://localhost:8080/"
        },
        "outputId": "640449e1-65d1-451c-982e-4e1b1126e665"
      },
      "outputs": [
        {
          "output_type": "stream",
          "name": "stderr",
          "text": [
            "[nltk_data] Downloading package omw-1.4 to /root/nltk_data...\n",
            "[nltk_data] Downloading package wordnet to /root/nltk_data...\n",
            "[nltk_data] Downloading package omw to /root/nltk_data...\n"
          ]
        }
      ],
      "source": [
        "import nltk\n",
        "import os\n",
        "import json\n",
        "\n",
        "# Download dei dati necessari\n",
        "nltk.download('omw-1.4')\n",
        "nltk.download('wordnet')\n",
        "nltk.download('omw')\n",
        "\n",
        "from nltk.corpus import wordnet as wn\n",
        "\n",
        "from collections import defaultdict\n",
        "import nltk\n",
        "from nltk.corpus import wordnet as wn"
      ]
    },
    {
      "cell_type": "markdown",
      "metadata": {
        "id": "D0UTs8nmEpSq"
      },
      "source": [
        "## **Creazione del dizionario a partire da Wordnet**"
      ]
    },
    {
      "cell_type": "code",
      "execution_count": 2,
      "metadata": {
        "id": "MCw3_FAVRrCC"
      },
      "outputs": [],
      "source": [
        "def get_dictionary(language = 'ita'):\n",
        "    all_lemmas = set()\n",
        "    for synset in wn.all_synsets():\n",
        "        for lemma in synset.lemmas(lang = language):\n",
        "            all_lemmas.add(lemma.name())\n",
        "    return all_lemmas"
      ]
    },
    {
      "cell_type": "markdown",
      "metadata": {
        "id": "y55LbQaGEEFP"
      },
      "source": [
        "## **Funzione che calcola lo score di disambiguazione**"
      ]
    },
    {
      "cell_type": "code",
      "execution_count": 3,
      "metadata": {
        "id": "dj7UeLs2R8HT"
      },
      "outputs": [],
      "source": [
        "# Ambiguity reduction (x,y) -> (Numero di sensi di x + Numero di sensi di y - 2 * Numero di sensi comuni tra x e y)/ (Numero di sensi di x + Numero di sensi di y)\n",
        "def compute_ambiguity_reduction(word_l1, word_l2, lang_l1 = \"ita\", lang_l2=\"spa\"):\n",
        "    synsets_l1 = set(wn.synsets(word_l1, lang=lang_l1))\n",
        "    synsets_l2 = set(wn.synsets(word_l2, lang=lang_l2))\n",
        "\n",
        "    num_senses_l1 = len(synsets_l1)\n",
        "    num_senses_l2 = len(synsets_l2)\n",
        "\n",
        "    common_senses = synsets_l1.intersection(synsets_l2)\n",
        "    num_common_senses = len(common_senses)\n",
        "\n",
        "    if (num_senses_l1 + num_senses_l2) == 0:\n",
        "        return 0.0\n",
        "\n",
        "    ambiguity_reduction = (num_senses_l1 + num_senses_l2 - 2 * num_common_senses) / (num_senses_l1 + num_senses_l2)\n",
        "\n",
        "    return ambiguity_reduction"
      ]
    },
    {
      "cell_type": "markdown",
      "source": [
        "## **Definizione oggetto che rappresenta la PseudoWord**"
      ],
      "metadata": {
        "id": "xolyiJSWKti_"
      }
    },
    {
      "cell_type": "code",
      "execution_count": 4,
      "metadata": {
        "id": "LYi7Fik0LDOn"
      },
      "outputs": [],
      "source": [
        "class PseudoWord:\n",
        "    def __init__(self, name: str, l1_word_sense: list[str], l2_word_sense: list[str], pseudoword_senses: list[str], ambiguity_score: float):\n",
        "        self.name = name\n",
        "        self.l1_word_sense = l1_word_sense\n",
        "        self.l2_word_sense = l2_word_sense\n",
        "        self.pseudoword_senses = pseudoword_senses\n",
        "        self.ambiguity_score = ambiguity_score\n",
        "\n",
        "    def __str__(self):\n",
        "      return (\n",
        "          f\"PseudoWord(name='{self.name}', \"\n",
        "          f\"l1_word_sense={self.l1_word_sense}, \"\n",
        "          f\"l2_word_sense={self.l2_word_sense}, \"\n",
        "          f\"pseudoword_senses={self.pseudoword_senses}, \"\n",
        "          f\"ambiguity_score={self.ambiguity_score:.4f})\"\n",
        "      )\n",
        "\n",
        "    def __eq__(self, __o: object) -> bool:\n",
        "        if not isinstance(__o, PseudoWord):\n",
        "            return False\n",
        "        return self.name == __o.name\n",
        "    __repr__ = __str__\n"
      ]
    },
    {
      "cell_type": "markdown",
      "metadata": {
        "id": "6qf_pg7JI2h5"
      },
      "source": [
        "## **Creazione delle pseudoword stile ricerca semiasologica, partendo dal termine**"
      ]
    },
    {
      "cell_type": "markdown",
      "source": [
        "### Funzioni di utility"
      ],
      "metadata": {
        "id": "aA6JIJ_QfgX9"
      }
    },
    {
      "cell_type": "code",
      "source": [
        "# INPUT current word selected in L1\n",
        "# Output list of words that have the same synset of input word but in L2\n",
        "def get_related_words(word: str):\n",
        "  related_words = []\n",
        "  synsets = wn.synsets(word, lang='ita')\n",
        "  for synset in synsets:\n",
        "    for lemma in synset.lemmas(lang='spa'):\n",
        "      related_words.append(lemma.name())\n",
        "  return related_words\n",
        "\n",
        "def getMaxPseudoword( pseudoword, word, related_word, lang_l1 = \"ita\", lang_l2 = \"spa\"):\n",
        "  ambiguity_score = compute_ambiguity_reduction(word, related_word, lang_l1, lang_l2)\n",
        "\n",
        "  if not (ambiguity_score == 1.0) and ambiguity_score >= pseudoword.ambiguity_score:\n",
        "    syn_names_l2 = [s.name() for s in wn.synsets(related_word, lang=lang_l2)]\n",
        "    common_synset_names = list(set(pseudoword.l1_word_sense).intersection(set(syn_names_l2)))\n",
        "    return PseudoWord(word + \"-\" + related_word,\n",
        "                      pseudoword.l1_word_sense,\n",
        "                      syn_names_l2,\n",
        "                      common_synset_names,\n",
        "                      ambiguity_score)\n",
        "  else:\n",
        "    return pseudoword\n",
        "\n"
      ],
      "metadata": {
        "id": "JwVvu_Nffszs"
      },
      "execution_count": 5,
      "outputs": []
    },
    {
      "cell_type": "code",
      "execution_count": 6,
      "metadata": {
        "id": "-TrkpJo6UCDX"
      },
      "outputs": [],
      "source": [
        "from itertools import count\n",
        "import random\n",
        "def create_pseudoword_from_terms(dictionary_l1, num_pseudoword_generated, language_l1 = \"ita\", language_l2 = \"spa\"):\n",
        "    random.seed(33)\n",
        "    random.shuffle(dictionary_l1)\n",
        "    num_of_pairs = 0\n",
        "    pseudowords = []\n",
        "    for word in dictionary_l1:\n",
        "        related_words = get_related_words(word)\n",
        "        if len(related_words) > 0:\n",
        "          ## possible sort\n",
        "          syn_names_l1 = [s.name() for s in wn.synsets(word, lang=language_l1)]\n",
        "          pseudoword = PseudoWord(word + \"-\", syn_names_l1, [], [], 0.0)\n",
        "          for related_word in related_words:\n",
        "            pseudoword = getMaxPseudoword(pseudoword, word, related_word, language_l1, language_l2)\n",
        "            num_of_pairs += 1\n",
        "            if pseudoword.ambiguity_score == 1:\n",
        "                break\n",
        "          pseudowords.append(pseudoword)\n",
        "          if(len(pseudowords))>= num_pseudoword_generated:\n",
        "            break\n",
        "    return pseudowords, num_of_pairs\n"
      ]
    },
    {
      "cell_type": "markdown",
      "metadata": {
        "id": "NTnp09MIJV4H"
      },
      "source": [
        "## **Creazione delle pseudoword stile ricerca onomasiologica, partendo dal significato**"
      ]
    },
    {
      "cell_type": "code",
      "execution_count": 7,
      "metadata": {
        "id": "qr7izhuwJwvX"
      },
      "outputs": [],
      "source": [
        "def create_pseudoword_from_synset(num_pseudoword_generated, language_l1 = \"ita\", language_l2 = \"spa\"):\n",
        "  pseudoword_generated = []\n",
        "\n",
        "  num_of_pairs = 0\n",
        "  all_synsets = wn.all_synsets()\n",
        "\n",
        "  for synset in all_synsets:\n",
        "      lemmas_l1 = [lemma.name() for lemma in synset.lemmas(lang=language_l1)]\n",
        "      lemmas_l2 = [lemma.name() for lemma in synset.lemmas(lang=language_l2)]\n",
        "      if(len(lemmas_l1) == 0 or len(lemmas_l2) == 0):\n",
        "        continue\n",
        "\n",
        "      max_ambiguity_reduction = -1\n",
        "      pseudo_word_max_reduction = None\n",
        "      for word_l1 in lemmas_l1:\n",
        "        for word_l2 in lemmas_l2:\n",
        "          pseudoword_label = f\"{word_l1}-{word_l2}\"\n",
        "          #check in pseudo-word already exist\n",
        "          if(pseudoword_label not in pseudoword_generated):\n",
        "            #compute ambiguity score\n",
        "            current_ambiguity_reduction = compute_ambiguity_reduction(word_l1, word_l2);\n",
        "            num_of_pairs += 1\n",
        "            # Note: can't be == 1 because there are always a common synset and word are relate in atleast one sense\n",
        "            if(current_ambiguity_reduction > max_ambiguity_reduction):\n",
        "              max_ambiguity_reduction = current_ambiguity_reduction\n",
        "              synsets_l1 = set(wn.synsets(word_l1, lang=language_l1))\n",
        "              synsets_l2 = set(wn.synsets(word_l2, lang=language_l2))\n",
        "              common_senses = synsets_l1.intersection(synsets_l2)\n",
        "\n",
        "              syn_names_l1 = [s.name() for s in wn.synsets(word_l1, lang=language_l1)]\n",
        "              syn_names_l2 = [s.name() for s in wn.synsets(word_l2, lang=language_l2)]\n",
        "              common_sense_names = [s.name() for s in common_senses]\n",
        "              pseudo_word_max_reduction = PseudoWord(pseudoword_label, syn_names_l1, syn_names_l2, common_sense_names, max_ambiguity_reduction)\n",
        "\n",
        "      pseudoword_generated.append(pseudo_word_max_reduction)\n",
        "      if(len(pseudoword_generated) >= num_pseudoword_generated):\n",
        "        break\n",
        "\n",
        "\n",
        "\n",
        "  return pseudoword_generated, num_of_pairs\n",
        "\n",
        "\n",
        "\n",
        "\n"
      ]
    },
    {
      "cell_type": "markdown",
      "metadata": {
        "id": "6xOXArkSJj97"
      },
      "source": [
        "## **Output dei dati in formato tabellare**"
      ]
    },
    {
      "cell_type": "code",
      "execution_count": 9,
      "metadata": {
        "id": "CreBNtoIJxNI"
      },
      "outputs": [],
      "source": [
        "import os\n",
        "import matplotlib\n",
        "matplotlib.use('Agg')\n",
        "import matplotlib.pyplot as plt\n",
        "import pandas as pd\n",
        "import textwrap\n",
        "\n",
        "def plot_pseudowords_table(pseudowords, output_dir=\"/content/sample_data\", excel_filename=\"pseudowords_table.xlsx\"):\n",
        "    if not pseudowords:\n",
        "        print(\"La lista di pseudowords è vuota.\")\n",
        "        return\n",
        "\n",
        "    df = pd.DataFrame([{\n",
        "        \"name\": pw.name,\n",
        "        \"l1_word_sense\": \", \".join(pw.l1_word_sense),\n",
        "        \"l2_word_sense\": \", \".join(pw.l2_word_sense),\n",
        "        \"pseudoword_senses\": \", \".join(pw.pseudoword_senses),\n",
        "        \"ambiguity_score\": f\"{pw.ambiguity_score:.4f}\"\n",
        "    } for pw in pseudowords])\n",
        "\n",
        "\n",
        "    df_wrapped = df.applymap(lambda x: \"\\n\".join(textwrap.wrap(str(x), width=30)))\n",
        "\n",
        "\n",
        "    fig, ax = plt.subplots(\n",
        "        figsize=(max(12, len(df.columns)*2.5), len(df)*1.2)\n",
        "    )\n",
        "    ax.axis(\"off\")\n",
        "\n",
        "    table = ax.table(\n",
        "        cellText=df_wrapped.values,\n",
        "        colLabels=df_wrapped.columns,\n",
        "        cellLoc=\"center\",\n",
        "        loc=\"center\"\n",
        "    )\n",
        "\n",
        "    table.auto_set_font_size(False)\n",
        "    table.set_fontsize(8)\n",
        "    table.scale(1.2, 1.2)\n",
        "\n",
        "\n",
        "    os.makedirs(output_dir, exist_ok=True)\n",
        "    excel_path = os.path.join(output_dir, excel_filename)\n",
        "    df.to_excel(excel_path, index=False)\n",
        "    plt.close(fig)\n",
        "    print(f\"Tabella salvata in:\\n - Excel: {excel_path}\")\n"
      ]
    },
    {
      "cell_type": "markdown",
      "source": [
        "## **Confronto dei due metodi tramite grafici**"
      ],
      "metadata": {
        "id": "FO3CEKHa0PGH"
      }
    },
    {
      "cell_type": "markdown",
      "source": [
        "### Tempo di esecuzione all'aumentare del numero di pseudoword generate"
      ],
      "metadata": {
        "id": "uOwpEaHr4TlA"
      }
    },
    {
      "cell_type": "code",
      "source": [
        "import matplotlib.pyplot as plt\n",
        "\n",
        "def plot_execution_times(times_met1, times_met2):\n",
        "    resolutions =  [100, 500, 1000, 3000, 5000, 7000, 10000]\n",
        "\n",
        "    plt.figure(figsize=(8, 5))\n",
        "    plt.plot(resolutions, times_met1, marker='o', linestyle='-', label='Creazione dal termine')\n",
        "    plt.plot(resolutions, times_met2, marker='o', linestyle='--', label='Creazione dal significato')\n",
        "\n",
        "    plt.xlabel('Numero di Pseudoword')\n",
        "    plt.ylabel('Tempo di esecuzione (s)')\n",
        "    plt.title(\"Tempo di esecuzione all'aumentare del numero di pseudoword generate\")\n",
        "\n",
        "    # Gli assi vengono scalati automaticamente\n",
        "    plt.legend()\n",
        "    plt.grid(True, linestyle='--', alpha=0.6)\n",
        "\n",
        "    # Salva il grafico\n",
        "    plt.savefig(\"/content/sample_data/execution_times.pdf\", dpi=300)\n",
        "    plt.show()"
      ],
      "metadata": {
        "id": "L9UVF_NW0nCJ"
      },
      "execution_count": 10,
      "outputs": []
    },
    {
      "cell_type": "markdown",
      "source": [
        "###Confronto su numero di coppie considerate da ogni algoritmo"
      ],
      "metadata": {
        "id": "NnD6QS1E7UAr"
      }
    },
    {
      "cell_type": "code",
      "source": [
        "import matplotlib.pyplot as plt\n",
        "\n",
        "def plot_number_of_pairs(num_pairs_met1, num_pairs_met2):\n",
        "    resolutions =  [100, 500, 1000, 3000, 5000, 7000, 10000]\n",
        "\n",
        "    plt.figure(figsize=(8, 5))\n",
        "    plt.plot(resolutions, num_pairs_met1, marker='o', linestyle='-', label='Creazione dal termine')\n",
        "    plt.plot(resolutions, num_pairs_met2, marker='o', linestyle='--', label='Creazione dal significato')\n",
        "\n",
        "    plt.xlabel('Numero di Pseudoword')\n",
        "    plt.ylabel('Numero di confronti')\n",
        "    plt.title(\"Numero di coppie di parole confrontate all'aumentare del numero di pseudoword generate\")\n",
        "\n",
        "    # Gli assi vengono scalati automaticamente\n",
        "    plt.legend()\n",
        "    plt.grid(True, linestyle='--', alpha=0.6)\n",
        "\n",
        "    # Salva il grafico\n",
        "    plt.savefig(\"/content/sample_data/number_of_pairs.pdf\", dpi=300)\n",
        "    plt.show()"
      ],
      "metadata": {
        "id": "nknCyCB-G3-t"
      },
      "execution_count": 11,
      "outputs": []
    },
    {
      "cell_type": "markdown",
      "source": [
        "### Confronto su ambiguity reduction"
      ],
      "metadata": {
        "id": "ifJ8EFKY4qjc"
      }
    },
    {
      "cell_type": "code",
      "source": [
        "import numpy as np\n",
        "import pandas as pd\n",
        "import matplotlib.pyplot as plt\n",
        "from scipy.stats import norm\n",
        "\n",
        "def plot_ambiguity_reduction(file_met1 = \"/content/sample_data/pseudowords_table_method1.xlsx\", file_met2 = \"/content/sample_data/pseudowords_table_method2.xlsx\"):\n",
        "    met1 = pd.read_excel(file_met1)['ambiguity_score'].dropna().values\n",
        "    met2 = pd.read_excel(file_met2)['ambiguity_score'].dropna().values\n",
        "\n",
        "    # Calcolo media e deviazione standard\n",
        "    mean1, std1 = np.mean(met1), np.std(met1)\n",
        "    mean2, std2 = np.mean(met2), np.std(met2)\n",
        "\n",
        "    # Range fisso da 0 a 1\n",
        "    x = np.linspace(0, 1, 200)\n",
        "\n",
        "    # Curve gaussiane\n",
        "    y1 = norm.pdf(x, mean1, std1)\n",
        "    y2 = norm.pdf(x, mean2, std2)\n",
        "\n",
        "    # Plot\n",
        "    plt.figure(figsize=(8, 5))\n",
        "    plt.plot(x, y1, label=f\"Metodo 1 spa-ita (μ={mean1:.2f}, σ={std1:.2f})\", color=\"blue\")\n",
        "    plt.plot(x, y2, label=f\"Metodo 2 (μ={mean2:.2f}, σ={std2:.2f})\", color=\"red\", linestyle=\"--\")\n",
        "\n",
        "    plt.title(\"Confronto Gaussiane dei due Metodi (range 0-1)\")\n",
        "    plt.xlabel(\"Valori (0-1)\")\n",
        "    plt.ylabel(\"Densità di probabilità\")\n",
        "    plt.legend()\n",
        "    plt.grid(True, linestyle=\":\", alpha=0.6)\n",
        "    plt.show()\n",
        "\n",
        "plot_ambiguity_reduction()"
      ],
      "metadata": {
        "id": "4BwjfWid42hA",
        "colab": {
          "base_uri": "https://localhost:8080/",
          "height": 487
        },
        "outputId": "c432a505-39f6-47e8-e055-28084dad3725"
      },
      "execution_count": null,
      "outputs": [
        {
          "output_type": "display_data",
          "data": {
            "text/plain": [
              "<Figure size 800x500 with 1 Axes>"
            ],
            "image/png": "[encoded data removed]"
          },
          "metadata": {}
        }
      ]
    },
    {
      "cell_type": "markdown",
      "metadata": {
        "id": "LaxQTH8wJxpk"
      },
      "source": [
        "## **Test dei vari metodi**"
      ]
    },
    {
      "cell_type": "code",
      "source": [
        "import time\n",
        "def get_pseudowords_stats(method):\n",
        "\n",
        "  resolutions = [100, 500, 1000, 3000, 5000, 7000, 10000]\n",
        "  num_of_pairs_result_met1 = []\n",
        "  num_of_pairs_result_met2 = []\n",
        "  time_result_met1 = []\n",
        "  time_result_met2 = []\n",
        "  for res in resolutions:\n",
        "    # met1 stats\n",
        "    if(method == 1):\n",
        "      dictionary_l1 = list(get_dictionary(language = \"ita\"))\n",
        "      start_time = time.time()\n",
        "      _, num_of_pairs = create_pseudoword_from_terms(dictionary_l1, res)\n",
        "      end_time = time.time()\n",
        "      time_result_met1.append(end_time - start_time)\n",
        "      num_of_pairs_result_met1.append(num_of_pairs)\n",
        "\n",
        "    # met2 stats\n",
        "    if(method == 2):\n",
        "      start_time = time.time()\n",
        "      _, num_of_pairs = create_pseudoword_from_synset(res)\n",
        "      end_time = time.time()\n",
        "      time_result_met2.append(end_time - start_time)\n",
        "      num_of_pairs_result_met2.append(num_of_pairs)\n",
        "\n",
        "  if(method == 1):\n",
        "    return time_result_met1, num_of_pairs_result_met1\n",
        "  if(method == 2):\n",
        "    return time_result_met2, num_of_pairs_result_met2\n",
        "\n",
        "\n",
        "\n",
        "\n",
        "\n"
      ],
      "metadata": {
        "id": "IcfSKCCwPNQ8"
      },
      "execution_count": 12,
      "outputs": []
    },
    {
      "cell_type": "code",
      "execution_count": 13,
      "metadata": {
        "id": "WWqtyVWZR_9b",
        "collapsed": true,
        "colab": {
          "base_uri": "https://localhost:8080/"
        },
        "outputId": "15bdfe1c-9ed4-4c0a-950b-0cadab2a3911"
      },
      "outputs": [
        {
          "output_type": "stream",
          "name": "stdout",
          "text": [
            "Numero di coppie considerate metodo 1: 28454\n"
          ]
        },
        {
          "output_type": "stream",
          "name": "stderr",
          "text": [
            "/tmp/ipython-input-1837833684.py:22: FutureWarning: DataFrame.applymap has been deprecated. Use DataFrame.map instead.\n",
            "  df_wrapped = df.applymap(lambda x: \"\\n\".join(textwrap.wrap(str(x), width=30)))\n"
          ]
        },
        {
          "output_type": "stream",
          "name": "stdout",
          "text": [
            "Tabella salvata in:\n",
            " - Excel: /content/sample_data/pseudowords_table_method1.xlsx\n",
            "Numero di coppie considerate metodo 2: 34646\n",
            "Tabella salvata in:\n",
            " - Excel: /content/sample_data/pseudowords_table_method2.xlsx\n",
            "finish\n"
          ]
        }
      ],
      "source": [
        "if __name__ == \"__main__\":\n",
        "  dictionary_l1 = list(get_dictionary(language = \"ita\"))\n",
        "  pseudoword_list, num_of_pairs = create_pseudoword_from_terms(dictionary_l1, 10000)\n",
        "  print(f\"Numero di coppie considerate metodo 1: {num_of_pairs}\")\n",
        "  plot_pseudowords_table(pseudoword_list, excel_filename=\"pseudowords_table_method1.xlsx\")\n",
        "\n",
        "  # Testing method 2\n",
        "  pseudoword_list, num_of_pairs = create_pseudoword_from_synset(10000)\n",
        "  print(f\"Numero di coppie considerate metodo 2: {num_of_pairs}\")\n",
        "  plot_pseudowords_table(pseudoword_list, excel_filename=\"pseudowords_table_method2.xlsx\")\n",
        "  print(\"finish\")\n",
        "  \"\"\"\n",
        "    all_lemmas = set(lemma.name() for synset in wn.all_synsets() for lemma in synset.lemmas())\n",
        "    print(\"Numero totale di lemmi:\", len(all_lemmas))\n",
        "\n",
        "    total_senses = sum(len(synset.lemmas()) for synset in wn.all_synsets())\n",
        "    print(\"Numero totale di sensi:\", total_senses)\n",
        "\n",
        "\n",
        "    #Testing method 1\n",
        "    dictionary_l1 = list(get_dictionary(language = \"ita\"))\n",
        "    pseudoword_list, num_of_pairs = create_pseudoword_from_terms(dictionary_l1, 10000)\n",
        "    print(f\"Numero di coppie considerate metodo 1: {num_of_pairs}\")\n",
        "    plot_pseudowords_table(pseudoword_list, excel_filename=\"pseudowords_table_method1.xlsx\")\n",
        "\n",
        "    # Testing method 2\n",
        "    pseudoword_list, num_of_pairs = create_pseudoword_from_synset(10000)\n",
        "    print(f\"Numero di coppie considerate metodo 2: {num_of_pairs}\")\n",
        "    plot_pseudowords_table(pseudoword_list, excel_filename=\"pseudowords_table_method2.xlsx\")\n",
        "    print(\"finish\")\n",
        "\n",
        "\n",
        "    time_result_met1, num_of_pairs_result_met1 = get_pseudowords_stats(1)\n",
        "    time_result_met2, num_of_pairs_result_met2 = get_pseudowords_stats(2)\n",
        "    plot_execution_times(time_result_met1, time_result_met2)\n",
        "    plot_number_of_pairs(num_of_pairs_result_met1, num_of_pairs_result_met2)\n",
        "    #test amiguity reduction\n",
        "    word_ita = \"banca\"\n",
        "    word_eng = \"bank\"\n",
        "    reduction = compute_ambiguity_reduction(word_ita, word_eng)\n",
        "    print(f\"Ambiguity reduction between '{word_ita}' and '{word_eng}': {reduction:.4f}\")\n",
        "    spanish_dictionary = create_language_dictionary(language='spa')\n",
        "    output_dir = \"/home/patric/Documents/nltktest/TLN24-25/EserciziTerzaParte/ProgettoLab/Data\"\n",
        "    save_dictionary(output_dir, spanish_dictionary, 'spanish')\n",
        "\n",
        "    italian_dictionary = create_language_dictionary(language='ita')\n",
        "    english_dictionary = create_language_dictionary(language='eng')\n",
        "\n",
        "    output_dir = \"/home/patric/Documents/nltktest/TLN24-25/EserciziTerzaParte/ProgettoLab/Data\"\n",
        "\n",
        "    save_dictionary(output_dir, italian_dictionary, 'italian')\n",
        "    save_dictionary(output_dir, english_dictionary, 'english')\n",
        "    \"\"\""
      ]
    }
  ],
  "metadata": {
    "accelerator": "GPU",
    "colab": {
      "gpuType": "T4",
      "provenance": []
    },
    "kernelspec": {
      "display_name": "Python 3",
      "name": "python3"
    },
    "language_info": {
      "name": "python"
    }
  },
  "nbformat": 4,
  "nbformat_minor": 0
}